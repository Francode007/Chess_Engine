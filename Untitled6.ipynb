{
  "nbformat": 4,
  "nbformat_minor": 0,
  "metadata": {
    "colab": {
      "name": "Untitled6.ipynb",
      "provenance": [],
      "collapsed_sections": [],
      "include_colab_link": true
    },
    "kernelspec": {
      "name": "python3",
      "display_name": "Python 3"
    },
    "language_info": {
      "name": "python"
    }
  },
  "cells": [
    {
      "cell_type": "markdown",
      "metadata": {
        "id": "view-in-github",
        "colab_type": "text"
      },
      "source": [
        "<a href=\"https://colab.research.google.com/github/Francode007/Chess_Engine/blob/main/Untitled6.ipynb\" target=\"_parent\"><img src=\"https://colab.research.google.com/assets/colab-badge.svg\" alt=\"Open In Colab\"/></a>"
      ]
    },
    {
      "cell_type": "code",
      "execution_count": null,
      "metadata": {
        "colab": {
          "base_uri": "https://localhost:8080/"
        },
        "id": "qfkNBT8-lu1d",
        "outputId": "67916e5e-6814-4096-d8e0-0c7237b6b651"
      },
      "outputs": [
        {
          "output_type": "stream",
          "name": "stdout",
          "text": [
            "[0.7522124368474664]\n",
            "network is [[{'weights': [0.1, 0.3, 0.5], 'output': 0.7293840986039196, 'delta': -0.03213426050600671}, {'weights': [0.2, 0.4, 0.6], 'output': 0.7498476649480964, 'delta': -0.034900227545117346}], [{'weights': [0.7, 0.8], 'output': 0.7522124368474664, 'delta': -0.23257373473343634}]]\n",
            "[0.7906072132260756]\n",
            "network is [[{'weights': [0.09485851831903894, 0.30658752340373135, 0.5018686072484243], 'output': 0.8470896174437591, 'delta': -0.0821799789952673}, {'weights': [0.19441596359278124, 0.4071545466467491, 0.6020294482317486], 'output': 0.8879664269390543, 'delta': -0.07308261711724658}], [{'weights': [0.7084817791933747, 0.8203484303325781], 'output': 0.7906072132260756, 'delta': -0.8955111690297319}]]\n",
            "[0.7932372589750973]\n",
            "network is [[{'weights': [0.08787322010444122, 0.3226126193078085, 0.5115247547803682], 'output': 0.8069557434387908, 'delta': -0.051619052492830296}, {'weights': [0.18820394113781527, 0.4214056569846122, 0.610616655743025], 'output': 0.8202495452726034, 'delta': -0.059228957433289174}], [{'weights': [0.7464106898728752, 0.904883181436432], 'output': 0.7932372589750973, 'delta': -0.4439413269336667}]]\n",
            "[0.8006896220078553]\n",
            "network is [[{'weights': [0.07713645718593252, 0.33378814417250624, 0.51611885045223], 'output': 0.8005538322800191, 'delta': -0.06620304269510913}, {'weights': [0.17588431799169113, 0.4342287262689193, 0.6158880329545877], 'output': 0.8238008911145998, 'delta': -0.07443458272097403}], [{'weights': [0.7643227400488232, 0.9452873813603682], 'output': 0.8006896220078553, 'delta': -0.5424815002908494}]]\n",
            ">epoch=0, lrate=0.050, error=49.700\n",
            "[{'weights': [0.06809974185805012, 0.3441820218756384, 0.5229708653711739], 'output': 0.8005538322800191, 'delta': -0.06620304269510913}, {'weights': [0.16572399745027816, 0.44591495575611223, 0.6235920122662085], 'output': 0.8238008911145998, 'delta': -0.07443458272097403}]\n",
            "[{'weights': [0.7860370222487658, 0.99475629354255], 'output': 0.8006896220078553, 'delta': -0.5424815002908494}]\n"
          ]
        }
      ],
      "source": [
        "from math import exp\n",
        "from random import seed\n",
        "from random import random\n",
        "\n",
        "# Initialize a network\n",
        "# def initialize_network(n_inputs, n_hidden, n_outputs):\n",
        "#   network = list()\n",
        "#   hidden_layer = [{'weights':[random() for i in range(n_inputs + 1)]} for i in range(n_hidden)]\n",
        "#   network.append(hidden_layer)\n",
        "#   output_layer = [{'weights':[random() for i in range(n_hidden + 1)]} for i in range(n_outputs)]\n",
        "#   network.append(output_layer)\n",
        "#   return network\n",
        "\n",
        "# Calculate neuron activation for an input (calculating o in the lecture)\n",
        "def activate(weights, inputs):\n",
        "  activation = 0\n",
        "  for i in range(len(weights)):\n",
        "    activation += weights[i] * inputs[i]\n",
        "  return activation\n",
        "\n",
        "# Transfer neuron activation\n",
        "def transfer(activation):\n",
        "  return 1.0 / (1.0 + exp(-activation))\n",
        "\n",
        "#Relu activation function:\n",
        "def relu_transfer(activation):\n",
        "  if activation > 0:\n",
        "    return activation\n",
        "  else:\n",
        "    return 0\n",
        "\n",
        "#tanh activation function:\n",
        "def tanh_activation(activation):\n",
        "  return (exp(activation)-exp(-activation))/(exp(activation)+exp(-activation))\n",
        "\n",
        "# Forward propagate input to a network output\n",
        "def forward_propagate(network, row):\n",
        "  inputs = row\n",
        "  for layer in network:\n",
        "    new_inputs = []\n",
        "    for neuron in layer:\n",
        "      activation = activate(neuron['weights'], inputs)\n",
        "      neuron['output'] = transfer(activation)\n",
        "      new_inputs.append(neuron['output'])\n",
        "    inputs = new_inputs\n",
        "    final_output = inputs # last inputs is our final output\n",
        "  return final_output\n",
        "\n",
        "# Calculate the derivative of an neuron output\n",
        "def transfer_derivative(output):\n",
        "  return output * (1.0 - output)\n",
        "\n",
        "# Backpropagate error and store in neurons\n",
        "def backward_propagate_error(network, expected):\n",
        "  for i in reversed(range(len(network))):\n",
        "    layer = network[i]\n",
        "    errors = list()\n",
        "    if i != len(network)-1:\n",
        "      for j in range(len(layer)):\n",
        "        error = 0.0\n",
        "        for neuron in network[i + 1]:\n",
        "          error += (neuron['weights'][j] * neuron['delta'])\n",
        "        errors.append(error)\n",
        "    else:\n",
        "      for j in range(len(layer)):\n",
        "        neuron = layer[j]\n",
        "        errors.append(neuron['output'] - expected)\n",
        "    for j in range(len(layer)):\n",
        "      neuron = layer[j]\n",
        "      neuron['delta'] = errors[j] * transfer_derivative(neuron['output'])\n",
        "\n",
        "# Update network weights with error\n",
        "def update_weights(network, row, l_rate):\n",
        "  for i in range(len(network)):\n",
        "    inputs = row[:-1]\n",
        "    if i != 0:\n",
        "      inputs = [neuron['output'] for neuron in network[i - 1]]\n",
        "    for neuron in network[i]:\n",
        "      for j in range(len(inputs)):\n",
        "        neuron['weights'][j] -= l_rate * neuron['delta'] * inputs[j]\n",
        "      neuron['weights'][-1] -= l_rate * neuron['delta']\n",
        "\n",
        "# Train a network for a fixed number of epochs\n",
        "def train_network(network, train, l_rate, n_epoch, n_outputs):\n",
        "  for epoch in range(n_epoch):\n",
        "    sum_error = 0\n",
        "    for row in train:\n",
        "      outputs = forward_propagate(network, row)\n",
        "      expected = row[-1]\n",
        "      print(outputs)\n",
        "      sum_error += sum([(expected-outputs[i])**2 for i in range(n_outputs)])\n",
        "      backward_propagate_error(network, expected)\n",
        "      print(f\"network is {network}\")\n",
        "      update_weights(network, row, l_rate)\n",
        "    print('>epoch=%d, lrate=%.3f, error=%.3f' % (epoch, l_rate, sum_error))\n",
        "\n",
        "# Test training backprop algorithm\n",
        "seed(1)\n",
        "dataset = [[-3.2, 4.1, 0.163, 2],\n",
        "          [-1.7, 3.9, 1.35, 6.2],\n",
        "          [-4.16, 4.33, 0.78, 3.5],\n",
        "          [-2.73, 3.14, 1.07, 4.2]]\n",
        "n_inputs = len(dataset[0]) - 1\n",
        "n_outputs = 1\n",
        "#network = initialize_network(n_inputs, 2, n_outputs) \n",
        "network = [[{'weights':[0.1,0.3,0.5]},{'weights':[0.2,0.4,0.6]}], [{'weights':[0.7,0.8]}]]\n",
        "train_network(network, dataset, 0.05, 1, n_outputs)\n",
        "for layer in network:\n",
        "  print(layer)"
      ]
    },
    {
      "cell_type": "code",
      "source": [
        "from sklearn import tree\n",
        "X = [[91.3], [67.6],[71.1],[103.3],[26.4],[27.8],[21.8],[94.9],[90],[98.3]]\n",
        "y = [40.58,23.39,27.77,45.91,13.47,10.86,11.12,26.29,22.5,50.15]\n",
        "clf = tree.DecisionTreeRegressor()\n",
        "clf = clf.fit(X, y)\n",
        "clf.predict([[35.2],[28],[81.7]])"
      ],
      "metadata": {
        "colab": {
          "base_uri": "https://localhost:8080/"
        },
        "id": "Xo2QDFnFmI3G",
        "outputId": "c866a0ff-7e6d-4abe-90c1-0476915a141d"
      },
      "execution_count": null,
      "outputs": [
        {
          "output_type": "execute_result",
          "data": {
            "text/plain": [
              "array([10.86, 10.86, 22.5 ])"
            ]
          },
          "metadata": {},
          "execution_count": 14
        }
      ]
    },
    {
      "cell_type": "code",
      "source": [
        "X = [[1.5,71.1], [1.7,103.3], [1.6,26.4], [1.5,27.8],[1.4,21.8],[1.6,94.9],[1.4,90],[1.9,98.3],[2,108.1],[1.4,91.9],[1.8,61.5],[1.5,90.2]]\n",
        "y = [31.6,35.74,10.31,12.36,11.12,37.07,45.92,27.23,27.23,46.89,18.98,40.09]\n",
        "from sklearn.neighbors import KNeighborsRegressor\n",
        "neigh = KNeighborsRegressor(n_neighbors=3)\n",
        "neigh.fit(X, y)\n",
        "print(neigh.predict([[1.8,81.7],[1,105.8],[1.6,20.4],[1.7,66.1],[1.5,93.1],[1.2,95.1],[1.2,85.0],[1.8,46.3],[1.2,102.6],[1.1,84.3]]))"
      ],
      "metadata": {
        "colab": {
          "base_uri": "https://localhost:8080/"
        },
        "id": "dhTYRHTx5YVE",
        "outputId": "2c23d401-a44b-4aae-8a2a-f487a2405932"
      },
      "execution_count": null,
      "outputs": [
        {
          "output_type": "stream",
          "name": "stdout",
          "text": [
            "[44.3        30.06666667 11.26333333 32.16666667 41.35       37.06333333\n",
            " 44.3        13.88333333 30.06666667 44.3       ]\n"
          ]
        }
      ]
    },
    {
      "cell_type": "code",
      "source": [
        ""
      ],
      "metadata": {
        "id": "6QmDCA8XJmpl"
      },
      "execution_count": null,
      "outputs": []
    }
  ]
}